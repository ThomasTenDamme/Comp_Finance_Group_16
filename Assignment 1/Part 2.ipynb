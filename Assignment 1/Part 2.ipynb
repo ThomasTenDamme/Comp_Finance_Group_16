{
 "cells": [
  {
   "cell_type": "markdown",
   "metadata": {},
   "source": [
    "## Part II\n",
    "# Binomial Tree: option valuation (50 pts.)\n",
    " \n",
    " A commonly used approach to compute the price of an option is the so-called binomial tree method. Suppose that the maturity of an option on a non-dividend-paying stock St is divided into N subintervals of length ∆t. We will refer to the j th node at time i · ∆t as the (i, j) node. The stock price at the (i, j) node is Si,j = S0u^j * d^(i-j) (with u and d the upward and downward stock price movements, respectively). In the binomial tree approach, option prices are computed through a backward induction scheme:\n",
    "\n",
    "1. The value of a call option at its expiration date is max{$0, S_{N,j} − K$};\n",
    "2. Suppose that the values of the option at time (i + 1) · ∆t is known for all j. There is a risk-neutral probability p of moving from the (i, j) node at time i · ∆t to the (i + 1, j + 1) node at time (i + 1) · ∆t , and a probability 1 − p of moving from the (i, j) node at time i · ∆t to the (i + 1, j) node at time (i + 1) · ∆t . Risk-neutral valuation gives $f_{i,j} = e^{-r\\Delta t} \\left( p f_{i+1,j+1} + (1 - p) f_{i+1,j} \\right)$\n",
    "\n",
    "A general introduction to the binomial tree model and a detailed derivation of the relevant parameters is provided in appendix A. Please read the appendix carefully before starting on the assignment.\n",
    "\n",
    "Consider a European call option on a non-dividend-paying stock with a maturity of one year and strike price of €99. Let the one year interest rate be 6% and the current price of the stock be €100. Furthermore, assume that the volatility is 20%."
   ]
  },
  {
   "cell_type": "code",
   "execution_count": null,
   "metadata": {},
   "outputs": [],
   "source": [
    "import numpy as np\n",
    "\n",
    "def buildTree(S, vol, T, N):\n",
    "    dt = T / N\n",
    "\n",
    "    matrix = np.zeros((N + 1, N + 1))\n",
    "\n",
    "    u = 0 # TODO\n",
    "    d = 0 # TODO\n",
    "    \n",
    "    for i in np.arange(N + 1):\n",
    "        for j in np.arange(i + 1):\n",
    "            # Hint: express each cell as a combination of up and down moves\n",
    "            matrix[i, j] = 0 # TODO\n",
    "            \n",
    "    return matrix"
   ]
  },
  {
   "cell_type": "code",
   "execution_count": null,
   "metadata": {},
   "outputs": [],
   "source": [
    "sigma = 0.1\n",
    "S = 80\n",
    "T = 1\n",
    "N = 2\n",
    "buildTree(S, sigma, T, N)"
   ]
  },
  {
   "cell_type": "code",
   "execution_count": null,
   "metadata": {},
   "outputs": [],
   "source": [
    "def valueOptionMatrix(tree, T, r, K, vol):\n",
    "\n",
    "    dt = T / N\n",
    "\n",
    "    u = 0 # TODO\n",
    "    d = 0 # TODO\n",
    "\n",
    "    p = 0 # TODO\n",
    "\n",
    "    columns = tree.shape[1]\n",
    "    rows = tree.shape[0]\n",
    "    \n",
    "    # Walk backward, we start in last row of the matrix\n",
    "\n",
    "    # Add the payoff function in the last row\n",
    "    for c in np.arange(columns):\n",
    "        S = tree[rows - 1, c] # value in the matrix\n",
    "        tree[rows - 1, c] = 0 # TODO\n",
    "    \n",
    "    # For all other rows, we need to combine from previous rows\n",
    "    # We walk backwards, from the last row to the first row\n",
    "    for i in np.arange(rows - 1)[::-1]:\n",
    "        for j in np.arange(i + 1):\n",
    "            down = tree[i + 1, j]\n",
    "            up = tree[i + 1, j + 1]\n",
    "            tree[i, j] = 0 # TODO\n",
    "            \n",
    "    return tree"
   ]
  },
  {
   "cell_type": "code",
   "execution_count": null,
   "metadata": {},
   "outputs": [],
   "source": [
    "sigma = 0.1\n",
    "S = 80\n",
    "T = 1\n",
    "N = 2\n",
    "\n",
    "K = 85\n",
    "r = 0.1\n",
    "\n",
    "tree = buildTree(S, sigma, T, N)\n",
    "valueOptionMatrix(tree, T, r, K, sigma)"
   ]
  },
  {
   "cell_type": "code",
   "execution_count": null,
   "metadata": {},
   "outputs": [],
   "source": [
    "# Play around with different ranges of N and step sizes.\n",
    "N = np.arange(1, 300)\n",
    "\n",
    "# Calculate the option price for the correct parameters\n",
    "optionPriceAnalytical = 0 # TODO\n",
    "\n",
    "# Calculate option price for each n in N\n",
    "for n in N:\n",
    "    treeN = buildTree(...) # TODO\n",
    "    priceApproximatedly = valueOption(...) # TODO\n",
    "\n",
    "# use matplotlib to plot the analytical value\n",
    "# and the approximated value for each n"
   ]
  }
 ],
 "metadata": {
  "kernelspec": {
   "display_name": "Python 3",
   "language": "python",
   "name": "python3"
  },
  "language_info": {
   "name": "python",
   "version": "3.12.1"
  }
 },
 "nbformat": 4,
 "nbformat_minor": 2
}
